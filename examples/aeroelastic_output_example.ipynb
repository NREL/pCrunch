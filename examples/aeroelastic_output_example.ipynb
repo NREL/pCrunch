{
 "cells": [
  {
   "cell_type": "markdown",
   "metadata": {},
   "source": [
    "# pCrunch's Aeroelastic Output class\n",
    "\n",
    "The `AeroelasticOutput` class is a general container for time-series based data for a single environmental condition (i.e., a single incoming wind spead and turbulence seed value).  This might be a single run of your aeroelastic multibody simulation tool (OpenFAST or HAWC2 or Bladed or QBlade or in-house equivalents) in a larger parametric variation for design load case (DLC) analysis.  The `AeroelasticOutput` class provides data containers and common or convenient manipulations of the data for engineering analysis.  \n",
    "\n",
    "Analysis that involve multiple time-series simulations, such as a full run of multiple wind speeds and seeds, which yield multiple AeroelasticOutput instances, is done in the *Crunch class*.\n",
    "\n",
    "This file lays out some workflows and showcases capabilities of the `AeroelasticOutput` class."
   ]
  },
  {
   "cell_type": "markdown",
   "metadata": {},
   "source": [
    "## Creating a new class instance\n",
    "\n",
    "The `AeroelasticOutput` class can be initialized from an output file or from existing data structures.  pCrunch provides a reader for OpenFAST output files (both binary and ascii).  To expand pCrunch for use with other aeroelastic multibody codes, users could simply use the `openfast_readers.py` file as a template.  If you already have the data in Python, then data structures such as dictionaries, lists, NumPy arrays, and Pandas DataFrames can all be used as a constructor.  Here are some examples with each `myobj` representing a valid AeroelatsicOutput instance:"
   ]
  },
  {
   "cell_type": "code",
   "execution_count": 1,
   "metadata": {},
   "outputs": [],
   "source": [
    "import os\n",
    "import pandas as pd\n",
    "import numpy as np\n",
    "import matplotlib.pyplot as plt\n",
    "from pCrunch import AeroelasticOutput, read, FatigueParams\n",
    "\n",
    "thisdir = os.path.realpath('')\n",
    "datadir = os.path.join(thisdir, '..', 'pCrunch', 'test', 'data')\n",
    "\n",
    "# OpenFAST output files\n",
    "myobj_of_ascii = read( os.path.join(datadir, 'DLC2.3_1.out') )\n",
    "myobj_of_bin   = read( os.path.join(datadir, 'Test2.outb') )\n",
    "\n",
    "# Existing data structures\n",
    "mydata = {\n",
    "    \"Time\": [1, 2, 3, 4, 5, 6, 7, 8, 9, 10],\n",
    "    \"WindVxi\": [7, 7, 7, 7, 7, 8, 8, 8, 8, 8],\n",
    "    \"WindVyi\": [0] * 10,\n",
    "    \"WindVzi\": [0] * 10,\n",
    "}\n",
    "\n",
    "# From a dictionary\n",
    "myobj_from_dict  = AeroelasticOutput(mydata)\n",
    "\n",
    "# From a Pandas DataFrame\n",
    "myobj_from_df    = AeroelasticOutput( pd.DataFrame(mydata) )\n",
    "\n",
    "# From Python lists\n",
    "chan_labels      = list( mydata.keys() )\n",
    "ts_data          = [m for m in mydata.values()]\n",
    "myobj_from_list  = AeroelasticOutput(ts_data, chan_labels)\n",
    "\n",
    "# From a Numpy array\n",
    "myobj_from_numpy = AeroelasticOutput(np.array(ts_data), chan_labels)\n",
    "\n",
    "# As a copy from an existing output (especially helpful when needing to filter the core data)\n",
    "myobj_copy       = myobj_from_numpy.copy()"
   ]
  },
  {
   "cell_type": "markdown",
   "metadata": {
    "editable": true,
    "slideshow": {
     "slide_type": ""
    },
    "tags": []
   },
   "source": [
    "Additional, optional arguments can also be passed that specify a label, a description, and a vector of units for the data channels:"
   ]
  },
  {
   "cell_type": "code",
   "execution_count": 2,
   "metadata": {},
   "outputs": [],
   "source": [
    "myunits = ['s', 'm/s', 'm/s', 'm/s']\n",
    "myobj_from_dict = AeroelasticOutput(mydata, name='pseudodata', description='pCrunch example', units=myunits)"
   ]
  },
  {
   "cell_type": "markdown",
   "metadata": {},
   "source": [
    "Magnitude channels, extremes, and fatigue are presented in greater detail below.  These additional inputs can also be specified in the constructor:"
   ]
  },
  {
   "cell_type": "code",
   "execution_count": 3,
   "metadata": {},
   "outputs": [
    {
     "name": "stdout",
     "output_type": "stream",
     "text": [
      "Unknown keyword argument, lifetime\n",
      "Unknown keyword argument, lifetime\n",
      "Unknown keyword argument, lifetime\n"
     ]
    }
   ],
   "source": [
    "# Vector magnitudes\n",
    "mc = {\"Wind\": [\"WindVxi\", \"WindVyi\", \"WindVzi\"]}\n",
    "\n",
    "# Channel-specific fatigue properties\n",
    "fc = {\n",
    "    \"RootMc1\": FatigueParams(lifetime=25.0, slope=10.0, ultimate_stress=6e8, load2stress=250.0, S_intercept=5e9),\n",
    "    \"RootMc2\": FatigueParams(lifetime=25.0, slope=10.0, ultimate_stress=6e8, load2stress=250.0, S_intercept=5e9),\n",
    "    \"RootMc3\": FatigueParams(lifetime=25.0, slope=10.0, ultimate_stress=6e8, load2stress=250.0, S_intercept=5e9),\n",
    "}\n",
    "\n",
    "# Channels to focus on for extreme event tabulation\n",
    "ec = [\"RotSpeed\", \"RotThrust\", \"RotTorq\"]\n",
    "\n",
    "# Can also add some batch data operations in the constructor (many more available in Batch Processing below)\n",
    "myobj_mc = AeroelasticOutput(mydata, magnitude_channels=mc, trim_data=[2, 8], fatigue_channels=fc, extreme_channels=ec)\n"
   ]
  },
  {
   "attachments": {},
   "cell_type": "markdown",
   "metadata": {},
   "source": [
    "## Data structures and access\n",
    "\n",
    "pCrunch stores the time series data as a Numpy array and the channel names as a list.  More sophisticated data containers, such as netcdf or hdf5, could be adopted in future work, but the simplicity, familiarity, and accessibility of the data containers should help users adopt pCrunch into their workflows.  Easy converstions back to a Python dictionary or Pandas dataframe are available:"
   ]
  },
  {
   "cell_type": "code",
   "execution_count": 4,
   "metadata": {},
   "outputs": [
    {
     "data": {
      "text/plain": [
       "['Time', 'WindVxi', 'WindVyi', 'WindVzi']"
      ]
     },
     "execution_count": 4,
     "metadata": {},
     "output_type": "execute_result"
    }
   ],
   "source": [
    "myobj_from_dict.channels"
   ]
  },
  {
   "cell_type": "code",
   "execution_count": 5,
   "metadata": {},
   "outputs": [
    {
     "data": {
      "text/plain": [
       "array([[ 1,  7,  0,  0],\n",
       "       [ 2,  7,  0,  0],\n",
       "       [ 3,  7,  0,  0],\n",
       "       [ 4,  7,  0,  0],\n",
       "       [ 5,  7,  0,  0],\n",
       "       [ 6,  8,  0,  0],\n",
       "       [ 7,  8,  0,  0],\n",
       "       [ 8,  8,  0,  0],\n",
       "       [ 9,  8,  0,  0],\n",
       "       [10,  8,  0,  0]])"
      ]
     },
     "execution_count": 5,
     "metadata": {},
     "output_type": "execute_result"
    }
   ],
   "source": [
    "myobj_from_dict.data"
   ]
  },
  {
   "cell_type": "code",
   "execution_count": 6,
   "metadata": {},
   "outputs": [
    {
     "data": {
      "text/plain": [
       "{'Time': [1, 2, 3, 4, 5, 6, 7, 8, 9, 10],\n",
       " 'WindVxi': [7, 7, 7, 7, 7, 8, 8, 8, 8, 8],\n",
       " 'WindVyi': [0, 0, 0, 0, 0, 0, 0, 0, 0, 0],\n",
       " 'WindVzi': [0, 0, 0, 0, 0, 0, 0, 0, 0, 0]}"
      ]
     },
     "execution_count": 6,
     "metadata": {},
     "output_type": "execute_result"
    }
   ],
   "source": [
    "myobj_from_dict.to_dict()"
   ]
  },
  {
   "cell_type": "code",
   "execution_count": 7,
   "metadata": {},
   "outputs": [
    {
     "data": {
      "text/html": [
       "<div>\n",
       "<style scoped>\n",
       "    .dataframe tbody tr th:only-of-type {\n",
       "        vertical-align: middle;\n",
       "    }\n",
       "\n",
       "    .dataframe tbody tr th {\n",
       "        vertical-align: top;\n",
       "    }\n",
       "\n",
       "    .dataframe thead th {\n",
       "        text-align: right;\n",
       "    }\n",
       "</style>\n",
       "<table border=\"1\" class=\"dataframe\">\n",
       "  <thead>\n",
       "    <tr style=\"text-align: right;\">\n",
       "      <th></th>\n",
       "      <th>Time</th>\n",
       "      <th>WindVxi</th>\n",
       "      <th>WindVyi</th>\n",
       "      <th>WindVzi</th>\n",
       "    </tr>\n",
       "  </thead>\n",
       "  <tbody>\n",
       "    <tr>\n",
       "      <th>0</th>\n",
       "      <td>1</td>\n",
       "      <td>7</td>\n",
       "      <td>0</td>\n",
       "      <td>0</td>\n",
       "    </tr>\n",
       "    <tr>\n",
       "      <th>1</th>\n",
       "      <td>2</td>\n",
       "      <td>7</td>\n",
       "      <td>0</td>\n",
       "      <td>0</td>\n",
       "    </tr>\n",
       "    <tr>\n",
       "      <th>2</th>\n",
       "      <td>3</td>\n",
       "      <td>7</td>\n",
       "      <td>0</td>\n",
       "      <td>0</td>\n",
       "    </tr>\n",
       "    <tr>\n",
       "      <th>3</th>\n",
       "      <td>4</td>\n",
       "      <td>7</td>\n",
       "      <td>0</td>\n",
       "      <td>0</td>\n",
       "    </tr>\n",
       "    <tr>\n",
       "      <th>4</th>\n",
       "      <td>5</td>\n",
       "      <td>7</td>\n",
       "      <td>0</td>\n",
       "      <td>0</td>\n",
       "    </tr>\n",
       "    <tr>\n",
       "      <th>5</th>\n",
       "      <td>6</td>\n",
       "      <td>8</td>\n",
       "      <td>0</td>\n",
       "      <td>0</td>\n",
       "    </tr>\n",
       "    <tr>\n",
       "      <th>6</th>\n",
       "      <td>7</td>\n",
       "      <td>8</td>\n",
       "      <td>0</td>\n",
       "      <td>0</td>\n",
       "    </tr>\n",
       "    <tr>\n",
       "      <th>7</th>\n",
       "      <td>8</td>\n",
       "      <td>8</td>\n",
       "      <td>0</td>\n",
       "      <td>0</td>\n",
       "    </tr>\n",
       "    <tr>\n",
       "      <th>8</th>\n",
       "      <td>9</td>\n",
       "      <td>8</td>\n",
       "      <td>0</td>\n",
       "      <td>0</td>\n",
       "    </tr>\n",
       "    <tr>\n",
       "      <th>9</th>\n",
       "      <td>10</td>\n",
       "      <td>8</td>\n",
       "      <td>0</td>\n",
       "      <td>0</td>\n",
       "    </tr>\n",
       "  </tbody>\n",
       "</table>\n",
       "</div>"
      ],
      "text/plain": [
       "   Time  WindVxi  WindVyi  WindVzi\n",
       "0     1        7        0        0\n",
       "1     2        7        0        0\n",
       "2     3        7        0        0\n",
       "3     4        7        0        0\n",
       "4     5        7        0        0\n",
       "5     6        8        0        0\n",
       "6     7        8        0        0\n",
       "7     8        8        0        0\n",
       "8     9        8        0        0\n",
       "9    10        8        0        0"
      ]
     },
     "execution_count": 7,
     "metadata": {},
     "output_type": "execute_result"
    }
   ],
   "source": [
    "myobj_from_dict.to_df()"
   ]
  },
  {
   "cell_type": "markdown",
   "metadata": {},
   "source": [
    "Accessing the data for a particular channel is done using familiar dictionary or DataFrame syntax.  A `.time` property is also available as that is assumed to be common to all datasets"
   ]
  },
  {
   "cell_type": "code",
   "execution_count": 8,
   "metadata": {},
   "outputs": [
    {
     "data": {
      "text/plain": [
       "array([ 1,  2,  3,  4,  5,  6,  7,  8,  9, 10])"
      ]
     },
     "execution_count": 8,
     "metadata": {},
     "output_type": "execute_result"
    }
   ],
   "source": [
    "myobj_from_dict['Time']"
   ]
  },
  {
   "cell_type": "code",
   "execution_count": 9,
   "metadata": {},
   "outputs": [
    {
     "data": {
      "text/plain": [
       "array([ 1,  2,  3,  4,  5,  6,  7,  8,  9, 10])"
      ]
     },
     "execution_count": 9,
     "metadata": {},
     "output_type": "execute_result"
    }
   ],
   "source": [
    "myobj_from_dict.time"
   ]
  },
  {
   "cell_type": "code",
   "execution_count": 10,
   "metadata": {},
   "outputs": [
    {
     "data": {
      "text/plain": [
       "array([7, 7, 7, 7, 7, 8, 8, 8, 8, 8])"
      ]
     },
     "execution_count": 10,
     "metadata": {},
     "output_type": "execute_result"
    }
   ],
   "source": [
    "myobj_from_dict['WindVxi']"
   ]
  },
  {
   "cell_type": "markdown",
   "metadata": {},
   "source": [
    "If working with the data or summary statistics outside of the AeroelasticOutput object, it can be help to have an easy way to grab the index into the channel vector.  This is available via:"
   ]
  },
  {
   "cell_type": "code",
   "execution_count": 11,
   "metadata": {},
   "outputs": [
    {
     "data": {
      "text/plain": [
       "1"
      ]
     },
     "execution_count": 11,
     "metadata": {},
     "output_type": "execute_result"
    }
   ],
   "source": [
    "myobj_from_dict.chan_idx('WindVxi')"
   ]
  },
  {
   "cell_type": "markdown",
   "metadata": {},
   "source": [
    "## Adding new channels, dropping channels, and math operations on channel data\n",
    "\n",
    "Significant new capability has been added in pCrunch v2 to enable easy addition of new data channels, especially from mathematically manipulating existing channels.  There are also easy short cuts to add channels that are vector magnitudes and load rose sectors based on vector components, which is helpful for tower and blade loading analysis.\n",
    "\n",
    "As with the constructor, new channel data can be added with a dictionary, list, Pandas Series, or Numpy array:"
   ]
  },
  {
   "cell_type": "code",
   "execution_count": 12,
   "metadata": {},
   "outputs": [
    {
     "data": {
      "text/html": [
       "<div>\n",
       "<style scoped>\n",
       "    .dataframe tbody tr th:only-of-type {\n",
       "        vertical-align: middle;\n",
       "    }\n",
       "\n",
       "    .dataframe tbody tr th {\n",
       "        vertical-align: top;\n",
       "    }\n",
       "\n",
       "    .dataframe thead th {\n",
       "        text-align: right;\n",
       "    }\n",
       "</style>\n",
       "<table border=\"1\" class=\"dataframe\">\n",
       "  <thead>\n",
       "    <tr style=\"text-align: right;\">\n",
       "      <th></th>\n",
       "      <th>Time</th>\n",
       "      <th>WindVxi</th>\n",
       "      <th>WindVyi</th>\n",
       "      <th>WindVzi</th>\n",
       "      <th>New1</th>\n",
       "      <th>New2</th>\n",
       "      <th>New3</th>\n",
       "    </tr>\n",
       "  </thead>\n",
       "  <tbody>\n",
       "    <tr>\n",
       "      <th>0</th>\n",
       "      <td>1.0</td>\n",
       "      <td>7.0</td>\n",
       "      <td>0.0</td>\n",
       "      <td>0.0</td>\n",
       "      <td>0.841471</td>\n",
       "      <td>0.540302</td>\n",
       "      <td>1.557408</td>\n",
       "    </tr>\n",
       "    <tr>\n",
       "      <th>1</th>\n",
       "      <td>2.0</td>\n",
       "      <td>7.0</td>\n",
       "      <td>0.0</td>\n",
       "      <td>0.0</td>\n",
       "      <td>0.909297</td>\n",
       "      <td>-0.416147</td>\n",
       "      <td>-2.185040</td>\n",
       "    </tr>\n",
       "    <tr>\n",
       "      <th>2</th>\n",
       "      <td>3.0</td>\n",
       "      <td>7.0</td>\n",
       "      <td>0.0</td>\n",
       "      <td>0.0</td>\n",
       "      <td>0.141120</td>\n",
       "      <td>-0.989992</td>\n",
       "      <td>-0.142547</td>\n",
       "    </tr>\n",
       "    <tr>\n",
       "      <th>3</th>\n",
       "      <td>4.0</td>\n",
       "      <td>7.0</td>\n",
       "      <td>0.0</td>\n",
       "      <td>0.0</td>\n",
       "      <td>-0.756802</td>\n",
       "      <td>-0.653644</td>\n",
       "      <td>1.157821</td>\n",
       "    </tr>\n",
       "    <tr>\n",
       "      <th>4</th>\n",
       "      <td>5.0</td>\n",
       "      <td>7.0</td>\n",
       "      <td>0.0</td>\n",
       "      <td>0.0</td>\n",
       "      <td>-0.958924</td>\n",
       "      <td>0.283662</td>\n",
       "      <td>-3.380515</td>\n",
       "    </tr>\n",
       "    <tr>\n",
       "      <th>5</th>\n",
       "      <td>6.0</td>\n",
       "      <td>8.0</td>\n",
       "      <td>0.0</td>\n",
       "      <td>0.0</td>\n",
       "      <td>-0.279415</td>\n",
       "      <td>0.960170</td>\n",
       "      <td>-0.291006</td>\n",
       "    </tr>\n",
       "    <tr>\n",
       "      <th>6</th>\n",
       "      <td>7.0</td>\n",
       "      <td>8.0</td>\n",
       "      <td>0.0</td>\n",
       "      <td>0.0</td>\n",
       "      <td>0.656987</td>\n",
       "      <td>0.753902</td>\n",
       "      <td>0.871448</td>\n",
       "    </tr>\n",
       "    <tr>\n",
       "      <th>7</th>\n",
       "      <td>8.0</td>\n",
       "      <td>8.0</td>\n",
       "      <td>0.0</td>\n",
       "      <td>0.0</td>\n",
       "      <td>0.989358</td>\n",
       "      <td>-0.145500</td>\n",
       "      <td>-6.799711</td>\n",
       "    </tr>\n",
       "    <tr>\n",
       "      <th>8</th>\n",
       "      <td>9.0</td>\n",
       "      <td>8.0</td>\n",
       "      <td>0.0</td>\n",
       "      <td>0.0</td>\n",
       "      <td>0.412118</td>\n",
       "      <td>-0.911130</td>\n",
       "      <td>-0.452316</td>\n",
       "    </tr>\n",
       "    <tr>\n",
       "      <th>9</th>\n",
       "      <td>10.0</td>\n",
       "      <td>8.0</td>\n",
       "      <td>0.0</td>\n",
       "      <td>0.0</td>\n",
       "      <td>-0.544021</td>\n",
       "      <td>-0.839072</td>\n",
       "      <td>0.648361</td>\n",
       "    </tr>\n",
       "  </tbody>\n",
       "</table>\n",
       "</div>"
      ],
      "text/plain": [
       "   Time  WindVxi  WindVyi  WindVzi      New1      New2      New3\n",
       "0   1.0      7.0      0.0      0.0  0.841471  0.540302  1.557408\n",
       "1   2.0      7.0      0.0      0.0  0.909297 -0.416147 -2.185040\n",
       "2   3.0      7.0      0.0      0.0  0.141120 -0.989992 -0.142547\n",
       "3   4.0      7.0      0.0      0.0 -0.756802 -0.653644  1.157821\n",
       "4   5.0      7.0      0.0      0.0 -0.958924  0.283662 -3.380515\n",
       "5   6.0      8.0      0.0      0.0 -0.279415  0.960170 -0.291006\n",
       "6   7.0      8.0      0.0      0.0  0.656987  0.753902  0.871448\n",
       "7   8.0      8.0      0.0      0.0  0.989358 -0.145500 -6.799711\n",
       "8   9.0      8.0      0.0      0.0  0.412118 -0.911130 -0.452316\n",
       "9  10.0      8.0      0.0      0.0 -0.544021 -0.839072  0.648361"
      ]
     },
     "execution_count": 12,
     "metadata": {},
     "output_type": "execute_result"
    }
   ],
   "source": [
    "# Inputting a dictionary new channel\n",
    "myobj_from_dict.add_channel( {'New1': np.sin(myobj_from_dict['Time'])} )\n",
    "\n",
    "# As a DataFrame\n",
    "myobj_from_dict.add_channel( pd.DataFrame({'New2': np.cos(myobj_from_dict['Time'])}) )\n",
    "\n",
    "# As a Numpy array or list and channel as a string\n",
    "myobj_from_dict.add_channel( np.tan(myobj_from_dict['Time']), 'New3' )\n",
    "\n",
    "myobj_from_dict.to_df()"
   ]
  },
  {
   "cell_type": "markdown",
   "metadata": {},
   "source": [
    "A new feature in pCrunch that restores some of the old capability in mcrunch is the ability to write string expressions to add a new channel.  String names should match channel names and all standard python math expressions are allowed.  Users can also use `calculate_channel` in addition to `add_channel` for mcrunch consistency."
   ]
  },
  {
   "cell_type": "code",
   "execution_count": 13,
   "metadata": {},
   "outputs": [
    {
     "data": {
      "text/html": [
       "<div>\n",
       "<style scoped>\n",
       "    .dataframe tbody tr th:only-of-type {\n",
       "        vertical-align: middle;\n",
       "    }\n",
       "\n",
       "    .dataframe tbody tr th {\n",
       "        vertical-align: top;\n",
       "    }\n",
       "\n",
       "    .dataframe thead th {\n",
       "        text-align: right;\n",
       "    }\n",
       "</style>\n",
       "<table border=\"1\" class=\"dataframe\">\n",
       "  <thead>\n",
       "    <tr style=\"text-align: right;\">\n",
       "      <th></th>\n",
       "      <th>Time</th>\n",
       "      <th>WindVxi</th>\n",
       "      <th>WindVyi</th>\n",
       "      <th>WindVzi</th>\n",
       "      <th>New1</th>\n",
       "      <th>New2</th>\n",
       "      <th>New3</th>\n",
       "      <th>New4</th>\n",
       "    </tr>\n",
       "  </thead>\n",
       "  <tbody>\n",
       "    <tr>\n",
       "      <th>0</th>\n",
       "      <td>1.0</td>\n",
       "      <td>7.0</td>\n",
       "      <td>0.0</td>\n",
       "      <td>0.0</td>\n",
       "      <td>0.841471</td>\n",
       "      <td>0.540302</td>\n",
       "      <td>1.557408</td>\n",
       "      <td>50.557408</td>\n",
       "    </tr>\n",
       "    <tr>\n",
       "      <th>1</th>\n",
       "      <td>2.0</td>\n",
       "      <td>7.0</td>\n",
       "      <td>0.0</td>\n",
       "      <td>0.0</td>\n",
       "      <td>0.909297</td>\n",
       "      <td>-0.416147</td>\n",
       "      <td>-2.185040</td>\n",
       "      <td>46.814960</td>\n",
       "    </tr>\n",
       "    <tr>\n",
       "      <th>2</th>\n",
       "      <td>3.0</td>\n",
       "      <td>7.0</td>\n",
       "      <td>0.0</td>\n",
       "      <td>0.0</td>\n",
       "      <td>0.141120</td>\n",
       "      <td>-0.989992</td>\n",
       "      <td>-0.142547</td>\n",
       "      <td>48.857453</td>\n",
       "    </tr>\n",
       "    <tr>\n",
       "      <th>3</th>\n",
       "      <td>4.0</td>\n",
       "      <td>7.0</td>\n",
       "      <td>0.0</td>\n",
       "      <td>0.0</td>\n",
       "      <td>-0.756802</td>\n",
       "      <td>-0.653644</td>\n",
       "      <td>1.157821</td>\n",
       "      <td>50.157821</td>\n",
       "    </tr>\n",
       "    <tr>\n",
       "      <th>4</th>\n",
       "      <td>5.0</td>\n",
       "      <td>7.0</td>\n",
       "      <td>0.0</td>\n",
       "      <td>0.0</td>\n",
       "      <td>-0.958924</td>\n",
       "      <td>0.283662</td>\n",
       "      <td>-3.380515</td>\n",
       "      <td>45.619485</td>\n",
       "    </tr>\n",
       "    <tr>\n",
       "      <th>5</th>\n",
       "      <td>6.0</td>\n",
       "      <td>8.0</td>\n",
       "      <td>0.0</td>\n",
       "      <td>0.0</td>\n",
       "      <td>-0.279415</td>\n",
       "      <td>0.960170</td>\n",
       "      <td>-0.291006</td>\n",
       "      <td>63.708994</td>\n",
       "    </tr>\n",
       "    <tr>\n",
       "      <th>6</th>\n",
       "      <td>7.0</td>\n",
       "      <td>8.0</td>\n",
       "      <td>0.0</td>\n",
       "      <td>0.0</td>\n",
       "      <td>0.656987</td>\n",
       "      <td>0.753902</td>\n",
       "      <td>0.871448</td>\n",
       "      <td>64.871448</td>\n",
       "    </tr>\n",
       "    <tr>\n",
       "      <th>7</th>\n",
       "      <td>8.0</td>\n",
       "      <td>8.0</td>\n",
       "      <td>0.0</td>\n",
       "      <td>0.0</td>\n",
       "      <td>0.989358</td>\n",
       "      <td>-0.145500</td>\n",
       "      <td>-6.799711</td>\n",
       "      <td>57.200289</td>\n",
       "    </tr>\n",
       "    <tr>\n",
       "      <th>8</th>\n",
       "      <td>9.0</td>\n",
       "      <td>8.0</td>\n",
       "      <td>0.0</td>\n",
       "      <td>0.0</td>\n",
       "      <td>0.412118</td>\n",
       "      <td>-0.911130</td>\n",
       "      <td>-0.452316</td>\n",
       "      <td>63.547684</td>\n",
       "    </tr>\n",
       "    <tr>\n",
       "      <th>9</th>\n",
       "      <td>10.0</td>\n",
       "      <td>8.0</td>\n",
       "      <td>0.0</td>\n",
       "      <td>0.0</td>\n",
       "      <td>-0.544021</td>\n",
       "      <td>-0.839072</td>\n",
       "      <td>0.648361</td>\n",
       "      <td>64.648361</td>\n",
       "    </tr>\n",
       "  </tbody>\n",
       "</table>\n",
       "</div>"
      ],
      "text/plain": [
       "   Time  WindVxi  WindVyi  WindVzi      New1      New2      New3       New4\n",
       "0   1.0      7.0      0.0      0.0  0.841471  0.540302  1.557408  50.557408\n",
       "1   2.0      7.0      0.0      0.0  0.909297 -0.416147 -2.185040  46.814960\n",
       "2   3.0      7.0      0.0      0.0  0.141120 -0.989992 -0.142547  48.857453\n",
       "3   4.0      7.0      0.0      0.0 -0.756802 -0.653644  1.157821  50.157821\n",
       "4   5.0      7.0      0.0      0.0 -0.958924  0.283662 -3.380515  45.619485\n",
       "5   6.0      8.0      0.0      0.0 -0.279415  0.960170 -0.291006  63.708994\n",
       "6   7.0      8.0      0.0      0.0  0.656987  0.753902  0.871448  64.871448\n",
       "7   8.0      8.0      0.0      0.0  0.989358 -0.145500 -6.799711  57.200289\n",
       "8   9.0      8.0      0.0      0.0  0.412118 -0.911130 -0.452316  63.547684\n",
       "9  10.0      8.0      0.0      0.0 -0.544021 -0.839072  0.648361  64.648361"
      ]
     },
     "execution_count": 13,
     "metadata": {},
     "output_type": "execute_result"
    }
   ],
   "source": [
    "myobj_from_dict.add_channel( 'WindVxi**2 + WindVyi + New1/New2', 'New4' )\n",
    "myobj_from_dict.to_df()"
   ]
  },
  {
   "cell_type": "markdown",
   "metadata": {},
   "source": [
    "Channels can also be dropped using string wildcards (`drop_channel`, `remove_channel`, and `delete_channel` are all valid)"
   ]
  },
  {
   "cell_type": "code",
   "execution_count": 14,
   "metadata": {},
   "outputs": [
    {
     "data": {
      "text/html": [
       "<div>\n",
       "<style scoped>\n",
       "    .dataframe tbody tr th:only-of-type {\n",
       "        vertical-align: middle;\n",
       "    }\n",
       "\n",
       "    .dataframe tbody tr th {\n",
       "        vertical-align: top;\n",
       "    }\n",
       "\n",
       "    .dataframe thead th {\n",
       "        text-align: right;\n",
       "    }\n",
       "</style>\n",
       "<table border=\"1\" class=\"dataframe\">\n",
       "  <thead>\n",
       "    <tr style=\"text-align: right;\">\n",
       "      <th></th>\n",
       "      <th>Time</th>\n",
       "      <th>WindVxi</th>\n",
       "      <th>WindVyi</th>\n",
       "      <th>WindVzi</th>\n",
       "    </tr>\n",
       "  </thead>\n",
       "  <tbody>\n",
       "    <tr>\n",
       "      <th>0</th>\n",
       "      <td>1.0</td>\n",
       "      <td>7.0</td>\n",
       "      <td>0.0</td>\n",
       "      <td>0.0</td>\n",
       "    </tr>\n",
       "    <tr>\n",
       "      <th>1</th>\n",
       "      <td>2.0</td>\n",
       "      <td>7.0</td>\n",
       "      <td>0.0</td>\n",
       "      <td>0.0</td>\n",
       "    </tr>\n",
       "    <tr>\n",
       "      <th>2</th>\n",
       "      <td>3.0</td>\n",
       "      <td>7.0</td>\n",
       "      <td>0.0</td>\n",
       "      <td>0.0</td>\n",
       "    </tr>\n",
       "    <tr>\n",
       "      <th>3</th>\n",
       "      <td>4.0</td>\n",
       "      <td>7.0</td>\n",
       "      <td>0.0</td>\n",
       "      <td>0.0</td>\n",
       "    </tr>\n",
       "    <tr>\n",
       "      <th>4</th>\n",
       "      <td>5.0</td>\n",
       "      <td>7.0</td>\n",
       "      <td>0.0</td>\n",
       "      <td>0.0</td>\n",
       "    </tr>\n",
       "    <tr>\n",
       "      <th>5</th>\n",
       "      <td>6.0</td>\n",
       "      <td>8.0</td>\n",
       "      <td>0.0</td>\n",
       "      <td>0.0</td>\n",
       "    </tr>\n",
       "    <tr>\n",
       "      <th>6</th>\n",
       "      <td>7.0</td>\n",
       "      <td>8.0</td>\n",
       "      <td>0.0</td>\n",
       "      <td>0.0</td>\n",
       "    </tr>\n",
       "    <tr>\n",
       "      <th>7</th>\n",
       "      <td>8.0</td>\n",
       "      <td>8.0</td>\n",
       "      <td>0.0</td>\n",
       "      <td>0.0</td>\n",
       "    </tr>\n",
       "    <tr>\n",
       "      <th>8</th>\n",
       "      <td>9.0</td>\n",
       "      <td>8.0</td>\n",
       "      <td>0.0</td>\n",
       "      <td>0.0</td>\n",
       "    </tr>\n",
       "    <tr>\n",
       "      <th>9</th>\n",
       "      <td>10.0</td>\n",
       "      <td>8.0</td>\n",
       "      <td>0.0</td>\n",
       "      <td>0.0</td>\n",
       "    </tr>\n",
       "  </tbody>\n",
       "</table>\n",
       "</div>"
      ],
      "text/plain": [
       "   Time  WindVxi  WindVyi  WindVzi\n",
       "0   1.0      7.0      0.0      0.0\n",
       "1   2.0      7.0      0.0      0.0\n",
       "2   3.0      7.0      0.0      0.0\n",
       "3   4.0      7.0      0.0      0.0\n",
       "4   5.0      7.0      0.0      0.0\n",
       "5   6.0      8.0      0.0      0.0\n",
       "6   7.0      8.0      0.0      0.0\n",
       "7   8.0      8.0      0.0      0.0\n",
       "8   9.0      8.0      0.0      0.0\n",
       "9  10.0      8.0      0.0      0.0"
      ]
     },
     "execution_count": 14,
     "metadata": {},
     "output_type": "execute_result"
    }
   ],
   "source": [
    "myobj_from_dict.drop_channel('New*')\n",
    "myobj_from_dict.to_df()"
   ]
  },
  {
   "cell_type": "markdown",
   "metadata": {},
   "source": [
    "### Derivatives with respect to time\n",
    "\n",
    "As a common operation, new channels can be added that are gradients of existing channels.  This uses the Numpy `gradient` method with double precision central differencing in the middle of the timeseries and one-sided differencing at the edges."
   ]
  },
  {
   "cell_type": "code",
   "execution_count": 15,
   "metadata": {},
   "outputs": [
    {
     "data": {
      "text/html": [
       "<div>\n",
       "<style scoped>\n",
       "    .dataframe tbody tr th:only-of-type {\n",
       "        vertical-align: middle;\n",
       "    }\n",
       "\n",
       "    .dataframe tbody tr th {\n",
       "        vertical-align: top;\n",
       "    }\n",
       "\n",
       "    .dataframe thead th {\n",
       "        text-align: right;\n",
       "    }\n",
       "</style>\n",
       "<table border=\"1\" class=\"dataframe\">\n",
       "  <thead>\n",
       "    <tr style=\"text-align: right;\">\n",
       "      <th></th>\n",
       "      <th>Time</th>\n",
       "      <th>WindVxi</th>\n",
       "      <th>WindVyi</th>\n",
       "      <th>WindVzi</th>\n",
       "      <th>du_dt</th>\n",
       "    </tr>\n",
       "  </thead>\n",
       "  <tbody>\n",
       "    <tr>\n",
       "      <th>0</th>\n",
       "      <td>1.0</td>\n",
       "      <td>7.0</td>\n",
       "      <td>0.0</td>\n",
       "      <td>0.0</td>\n",
       "      <td>0.0</td>\n",
       "    </tr>\n",
       "    <tr>\n",
       "      <th>1</th>\n",
       "      <td>2.0</td>\n",
       "      <td>7.0</td>\n",
       "      <td>0.0</td>\n",
       "      <td>0.0</td>\n",
       "      <td>0.0</td>\n",
       "    </tr>\n",
       "    <tr>\n",
       "      <th>2</th>\n",
       "      <td>3.0</td>\n",
       "      <td>7.0</td>\n",
       "      <td>0.0</td>\n",
       "      <td>0.0</td>\n",
       "      <td>0.0</td>\n",
       "    </tr>\n",
       "    <tr>\n",
       "      <th>3</th>\n",
       "      <td>4.0</td>\n",
       "      <td>7.0</td>\n",
       "      <td>0.0</td>\n",
       "      <td>0.0</td>\n",
       "      <td>0.0</td>\n",
       "    </tr>\n",
       "    <tr>\n",
       "      <th>4</th>\n",
       "      <td>5.0</td>\n",
       "      <td>7.0</td>\n",
       "      <td>0.0</td>\n",
       "      <td>0.0</td>\n",
       "      <td>0.5</td>\n",
       "    </tr>\n",
       "    <tr>\n",
       "      <th>5</th>\n",
       "      <td>6.0</td>\n",
       "      <td>8.0</td>\n",
       "      <td>0.0</td>\n",
       "      <td>0.0</td>\n",
       "      <td>0.5</td>\n",
       "    </tr>\n",
       "    <tr>\n",
       "      <th>6</th>\n",
       "      <td>7.0</td>\n",
       "      <td>8.0</td>\n",
       "      <td>0.0</td>\n",
       "      <td>0.0</td>\n",
       "      <td>0.0</td>\n",
       "    </tr>\n",
       "    <tr>\n",
       "      <th>7</th>\n",
       "      <td>8.0</td>\n",
       "      <td>8.0</td>\n",
       "      <td>0.0</td>\n",
       "      <td>0.0</td>\n",
       "      <td>0.0</td>\n",
       "    </tr>\n",
       "    <tr>\n",
       "      <th>8</th>\n",
       "      <td>9.0</td>\n",
       "      <td>8.0</td>\n",
       "      <td>0.0</td>\n",
       "      <td>0.0</td>\n",
       "      <td>0.0</td>\n",
       "    </tr>\n",
       "    <tr>\n",
       "      <th>9</th>\n",
       "      <td>10.0</td>\n",
       "      <td>8.0</td>\n",
       "      <td>0.0</td>\n",
       "      <td>0.0</td>\n",
       "      <td>0.0</td>\n",
       "    </tr>\n",
       "  </tbody>\n",
       "</table>\n",
       "</div>"
      ],
      "text/plain": [
       "   Time  WindVxi  WindVyi  WindVzi  du_dt\n",
       "0   1.0      7.0      0.0      0.0    0.0\n",
       "1   2.0      7.0      0.0      0.0    0.0\n",
       "2   3.0      7.0      0.0      0.0    0.0\n",
       "3   4.0      7.0      0.0      0.0    0.0\n",
       "4   5.0      7.0      0.0      0.0    0.5\n",
       "5   6.0      8.0      0.0      0.0    0.5\n",
       "6   7.0      8.0      0.0      0.0    0.0\n",
       "7   8.0      8.0      0.0      0.0    0.0\n",
       "8   9.0      8.0      0.0      0.0    0.0\n",
       "9  10.0      8.0      0.0      0.0    0.0"
      ]
     },
     "execution_count": 15,
     "metadata": {},
     "output_type": "execute_result"
    }
   ],
   "source": [
    "myobj_from_dict.add_gradient_channel('WindVxi','du_dt')\n",
    "myobj_from_dict.to_df()"
   ]
  },
  {
   "cell_type": "markdown",
   "metadata": {},
   "source": [
    "### Vector magnitudes\n",
    "\n",
    "Computing vector magnitudes is a common operation, which can be done by hand using one of the approaches above, or in the constructor by passing in a dictionary:"
   ]
  },
  {
   "cell_type": "code",
   "execution_count": 16,
   "metadata": {},
   "outputs": [
    {
     "data": {
      "text/html": [
       "<div>\n",
       "<style scoped>\n",
       "    .dataframe tbody tr th:only-of-type {\n",
       "        vertical-align: middle;\n",
       "    }\n",
       "\n",
       "    .dataframe tbody tr th {\n",
       "        vertical-align: top;\n",
       "    }\n",
       "\n",
       "    .dataframe thead th {\n",
       "        text-align: right;\n",
       "    }\n",
       "</style>\n",
       "<table border=\"1\" class=\"dataframe\">\n",
       "  <thead>\n",
       "    <tr style=\"text-align: right;\">\n",
       "      <th></th>\n",
       "      <th>Time</th>\n",
       "      <th>WindVxi</th>\n",
       "      <th>WindVyi</th>\n",
       "      <th>WindVzi</th>\n",
       "      <th>Wind</th>\n",
       "    </tr>\n",
       "  </thead>\n",
       "  <tbody>\n",
       "    <tr>\n",
       "      <th>0</th>\n",
       "      <td>1.0</td>\n",
       "      <td>7.0</td>\n",
       "      <td>0.0</td>\n",
       "      <td>0.0</td>\n",
       "      <td>7.0</td>\n",
       "    </tr>\n",
       "    <tr>\n",
       "      <th>1</th>\n",
       "      <td>2.0</td>\n",
       "      <td>7.0</td>\n",
       "      <td>0.0</td>\n",
       "      <td>0.0</td>\n",
       "      <td>7.0</td>\n",
       "    </tr>\n",
       "    <tr>\n",
       "      <th>2</th>\n",
       "      <td>3.0</td>\n",
       "      <td>7.0</td>\n",
       "      <td>0.0</td>\n",
       "      <td>0.0</td>\n",
       "      <td>7.0</td>\n",
       "    </tr>\n",
       "    <tr>\n",
       "      <th>3</th>\n",
       "      <td>4.0</td>\n",
       "      <td>7.0</td>\n",
       "      <td>0.0</td>\n",
       "      <td>0.0</td>\n",
       "      <td>7.0</td>\n",
       "    </tr>\n",
       "    <tr>\n",
       "      <th>4</th>\n",
       "      <td>5.0</td>\n",
       "      <td>7.0</td>\n",
       "      <td>0.0</td>\n",
       "      <td>0.0</td>\n",
       "      <td>7.0</td>\n",
       "    </tr>\n",
       "    <tr>\n",
       "      <th>5</th>\n",
       "      <td>6.0</td>\n",
       "      <td>8.0</td>\n",
       "      <td>0.0</td>\n",
       "      <td>0.0</td>\n",
       "      <td>8.0</td>\n",
       "    </tr>\n",
       "    <tr>\n",
       "      <th>6</th>\n",
       "      <td>7.0</td>\n",
       "      <td>8.0</td>\n",
       "      <td>0.0</td>\n",
       "      <td>0.0</td>\n",
       "      <td>8.0</td>\n",
       "    </tr>\n",
       "    <tr>\n",
       "      <th>7</th>\n",
       "      <td>8.0</td>\n",
       "      <td>8.0</td>\n",
       "      <td>0.0</td>\n",
       "      <td>0.0</td>\n",
       "      <td>8.0</td>\n",
       "    </tr>\n",
       "    <tr>\n",
       "      <th>8</th>\n",
       "      <td>9.0</td>\n",
       "      <td>8.0</td>\n",
       "      <td>0.0</td>\n",
       "      <td>0.0</td>\n",
       "      <td>8.0</td>\n",
       "    </tr>\n",
       "    <tr>\n",
       "      <th>9</th>\n",
       "      <td>10.0</td>\n",
       "      <td>8.0</td>\n",
       "      <td>0.0</td>\n",
       "      <td>0.0</td>\n",
       "      <td>8.0</td>\n",
       "    </tr>\n",
       "  </tbody>\n",
       "</table>\n",
       "</div>"
      ],
      "text/plain": [
       "   Time  WindVxi  WindVyi  WindVzi  Wind\n",
       "0   1.0      7.0      0.0      0.0   7.0\n",
       "1   2.0      7.0      0.0      0.0   7.0\n",
       "2   3.0      7.0      0.0      0.0   7.0\n",
       "3   4.0      7.0      0.0      0.0   7.0\n",
       "4   5.0      7.0      0.0      0.0   7.0\n",
       "5   6.0      8.0      0.0      0.0   8.0\n",
       "6   7.0      8.0      0.0      0.0   8.0\n",
       "7   8.0      8.0      0.0      0.0   8.0\n",
       "8   9.0      8.0      0.0      0.0   8.0\n",
       "9  10.0      8.0      0.0      0.0   8.0"
      ]
     },
     "execution_count": 16,
     "metadata": {},
     "output_type": "execute_result"
    }
   ],
   "source": [
    "mc = {\"Wind\": [\"WindVxi\", \"WindVyi\", \"WindVzi\"]}\n",
    "myobj_with_mag = AeroelasticOutput(mydata, magnitude_channels=mc)\n",
    "myobj_with_mag.to_df()"
   ]
  },
  {
   "cell_type": "markdown",
   "metadata": {},
   "source": [
    "The magnitude channels can also be added after the fact too:"
   ]
  },
  {
   "cell_type": "code",
   "execution_count": 17,
   "metadata": {},
   "outputs": [
    {
     "data": {
      "text/html": [
       "<div>\n",
       "<style scoped>\n",
       "    .dataframe tbody tr th:only-of-type {\n",
       "        vertical-align: middle;\n",
       "    }\n",
       "\n",
       "    .dataframe tbody tr th {\n",
       "        vertical-align: top;\n",
       "    }\n",
       "\n",
       "    .dataframe thead th {\n",
       "        text-align: right;\n",
       "    }\n",
       "</style>\n",
       "<table border=\"1\" class=\"dataframe\">\n",
       "  <thead>\n",
       "    <tr style=\"text-align: right;\">\n",
       "      <th></th>\n",
       "      <th>Time</th>\n",
       "      <th>WindVxi</th>\n",
       "      <th>WindVyi</th>\n",
       "      <th>WindVzi</th>\n",
       "      <th>Wind</th>\n",
       "    </tr>\n",
       "  </thead>\n",
       "  <tbody>\n",
       "    <tr>\n",
       "      <th>0</th>\n",
       "      <td>1.0</td>\n",
       "      <td>7.0</td>\n",
       "      <td>0.0</td>\n",
       "      <td>0.0</td>\n",
       "      <td>7.0</td>\n",
       "    </tr>\n",
       "    <tr>\n",
       "      <th>1</th>\n",
       "      <td>2.0</td>\n",
       "      <td>7.0</td>\n",
       "      <td>0.0</td>\n",
       "      <td>0.0</td>\n",
       "      <td>7.0</td>\n",
       "    </tr>\n",
       "    <tr>\n",
       "      <th>2</th>\n",
       "      <td>3.0</td>\n",
       "      <td>7.0</td>\n",
       "      <td>0.0</td>\n",
       "      <td>0.0</td>\n",
       "      <td>7.0</td>\n",
       "    </tr>\n",
       "    <tr>\n",
       "      <th>3</th>\n",
       "      <td>4.0</td>\n",
       "      <td>7.0</td>\n",
       "      <td>0.0</td>\n",
       "      <td>0.0</td>\n",
       "      <td>7.0</td>\n",
       "    </tr>\n",
       "    <tr>\n",
       "      <th>4</th>\n",
       "      <td>5.0</td>\n",
       "      <td>7.0</td>\n",
       "      <td>0.0</td>\n",
       "      <td>0.0</td>\n",
       "      <td>7.0</td>\n",
       "    </tr>\n",
       "    <tr>\n",
       "      <th>5</th>\n",
       "      <td>6.0</td>\n",
       "      <td>8.0</td>\n",
       "      <td>0.0</td>\n",
       "      <td>0.0</td>\n",
       "      <td>8.0</td>\n",
       "    </tr>\n",
       "    <tr>\n",
       "      <th>6</th>\n",
       "      <td>7.0</td>\n",
       "      <td>8.0</td>\n",
       "      <td>0.0</td>\n",
       "      <td>0.0</td>\n",
       "      <td>8.0</td>\n",
       "    </tr>\n",
       "    <tr>\n",
       "      <th>7</th>\n",
       "      <td>8.0</td>\n",
       "      <td>8.0</td>\n",
       "      <td>0.0</td>\n",
       "      <td>0.0</td>\n",
       "      <td>8.0</td>\n",
       "    </tr>\n",
       "    <tr>\n",
       "      <th>8</th>\n",
       "      <td>9.0</td>\n",
       "      <td>8.0</td>\n",
       "      <td>0.0</td>\n",
       "      <td>0.0</td>\n",
       "      <td>8.0</td>\n",
       "    </tr>\n",
       "    <tr>\n",
       "      <th>9</th>\n",
       "      <td>10.0</td>\n",
       "      <td>8.0</td>\n",
       "      <td>0.0</td>\n",
       "      <td>0.0</td>\n",
       "      <td>8.0</td>\n",
       "    </tr>\n",
       "  </tbody>\n",
       "</table>\n",
       "</div>"
      ],
      "text/plain": [
       "   Time  WindVxi  WindVyi  WindVzi  Wind\n",
       "0   1.0      7.0      0.0      0.0   7.0\n",
       "1   2.0      7.0      0.0      0.0   7.0\n",
       "2   3.0      7.0      0.0      0.0   7.0\n",
       "3   4.0      7.0      0.0      0.0   7.0\n",
       "4   5.0      7.0      0.0      0.0   7.0\n",
       "5   6.0      8.0      0.0      0.0   8.0\n",
       "6   7.0      8.0      0.0      0.0   8.0\n",
       "7   8.0      8.0      0.0      0.0   8.0\n",
       "8   9.0      8.0      0.0      0.0   8.0\n",
       "9  10.0      8.0      0.0      0.0   8.0"
      ]
     },
     "execution_count": 17,
     "metadata": {},
     "output_type": "execute_result"
    }
   ],
   "source": [
    "myobj_with_mag = AeroelasticOutput(mydata)\n",
    "myobj_with_mag.add_magnitude_channels(mc)\n",
    "myobj_with_mag.to_df()"
   ]
  },
  {
   "cell_type": "markdown",
   "metadata": {},
   "source": [
    "### Load Roses\n",
    "\n",
    "Neither vector components nor magnitude correctly capture the load impacts on a tower base or blade root.  A more appropriate approach is a load rose, where the 360-degree annulus is divided into sectors and the vector components are combined with sin() and cos() to compute the load impacts on each sector.  pCrunch automates this process and it results in the creation of n_sector new channels of data.  An example:"
   ]
  },
  {
   "cell_type": "code",
   "execution_count": 18,
   "metadata": {},
   "outputs": [
    {
     "name": "stdout",
     "output_type": "stream",
     "text": [
      "Added channel, TwrBs15\n",
      "Added channel, TwrBs45\n",
      "Added channel, TwrBs75\n",
      "Added channel, TwrBs105\n",
      "Added channel, TwrBs135\n",
      "Added channel, TwrBs165\n"
     ]
    }
   ],
   "source": [
    "lr = {'TwrBs': ['TwrBsFxt', 'TwrBsFyt']}\n",
    "myobj_of_bin.add_load_rose(lr, nsec=6)"
   ]
  },
  {
   "cell_type": "markdown",
   "metadata": {},
   "source": [
    "### Binning, windowing, averaging\n",
    "\n",
    "Another common operation is to downsample the time series signals in various ways.  Options include:\n",
    "\n",
    "- Trim the data to remove transients or otherwise narrow the series\n",
    "- Windowed smoothing via correlation\n",
    "- Binned averages"
   ]
  },
  {
   "cell_type": "code",
   "execution_count": 19,
   "metadata": {},
   "outputs": [
    {
     "name": "stdout",
     "output_type": "stream",
     "text": [
      "600.0000089406967 6001\n",
      "499.9000074490905 5000\n"
     ]
    }
   ],
   "source": [
    "# Trimming data can be done to the full data set\n",
    "print( myobj_of_bin.elapsed_time, myobj_of_bin.num_timesteps )\n",
    "myobj_of_bin.trim_data(100, 600)\n",
    "print( myobj_of_bin.elapsed_time, myobj_of_bin.num_timesteps )"
   ]
  },
  {
   "cell_type": "code",
   "execution_count": 20,
   "metadata": {},
   "outputs": [
    {
     "name": "stdout",
     "output_type": "stream",
     "text": [
      "470.1000070050359 4702 0.10000000149011612\n"
     ]
    }
   ],
   "source": [
    "# Time windowing convolves an averaging window with the time signal and sets this as the new data array with the same timestep, \n",
    "# but a shorter signal that covers the valid windowing region.\n",
    "myobj_of_bin.averaging(30.0)\n",
    "print( myobj_of_bin.elapsed_time, myobj_of_bin.num_timesteps, myobj_of_bin.dt)"
   ]
  },
  {
   "cell_type": "code",
   "execution_count": 21,
   "metadata": {},
   "outputs": [
    {
     "name": "stdout",
     "output_type": "stream",
     "text": [
      "445.10000663250685 16 30.000000447034836\n"
     ]
    }
   ],
   "source": [
    "# Time binning results in a downsampled data set that represents the average for each bin\n",
    "myobj_of_bin.binning(30.0)\n",
    "print( myobj_of_bin.elapsed_time, myobj_of_bin.num_timesteps, myobj_of_bin.dt)"
   ]
  },
  {
   "cell_type": "markdown",
   "metadata": {},
   "source": [
    "## Frequency domain spectra\n",
    "\n",
    "Power spectral density in the frequency domain is made readily available using the SciPy `welch` function.  A new AeroelasticOutput object is returned with frequency taking the place of time and PSD content in the frequency domain taking the place of the time-domain data."
   ]
  },
  {
   "cell_type": "code",
   "execution_count": 22,
   "metadata": {},
   "outputs": [
    {
     "data": {
      "image/png": "[encoded data removed]",
      "text/plain": [
       "<Figure size 640x480 with 1 Axes>"
      ]
     },
     "metadata": {},
     "output_type": "display_data"
    }
   ],
   "source": [
    "freq_obj = myobj_of_ascii.psd()\n",
    "plt.loglog(freq_obj['Freq'], freq_obj['TwrBsFyt'])\n",
    "plt.xlabel('Frequency [Hz]')\n",
    "plt.ylabel('PSD')\n",
    "plt.grid()"
   ]
  },
  {
   "cell_type": "markdown",
   "metadata": {},
   "source": [
    "The user can also adjust the length of the FFT operation by passing the `psd` function an integer value.  This is usually done to zero-pad the FFT to a length longer than the data vector.\n",
    "\n",
    "Further operations on the frequency domain data are also possible, such as binning to achieve greater windowed smoothing than the `psd` function naturally gives (using the SciPy Welch algorithm with Hann-window smoothing)."
   ]
  },
  {
   "cell_type": "markdown",
   "metadata": {},
   "source": [
    "## Statistics, extremes, and many other quantities"
   ]
  },
  {
   "cell_type": "code",
   "execution_count": 23,
   "metadata": {},
   "outputs": [
    {
     "data": {
      "text/plain": [
       "{'Time': {'min': 1,\n",
       "  'max': 10,\n",
       "  'std': 2.8722813232690143,\n",
       "  'mean': 5.5,\n",
       "  'median': 5.5,\n",
       "  'abs': 10,\n",
       "  'integrated': 49.5},\n",
       " 'WindVxi': {'min': 7,\n",
       "  'max': 8,\n",
       "  'std': 0.5,\n",
       "  'mean': 7.5,\n",
       "  'median': 7.5,\n",
       "  'abs': 8,\n",
       "  'integrated': 67.5},\n",
       " 'WindVyi': {'min': 0,\n",
       "  'max': 0,\n",
       "  'std': 0.0,\n",
       "  'mean': 0.0,\n",
       "  'median': 0.0,\n",
       "  'abs': 0,\n",
       "  'integrated': 0.0},\n",
       " 'WindVzi': {'min': 0,\n",
       "  'max': 0,\n",
       "  'std': 0.0,\n",
       "  'mean': 0.0,\n",
       "  'median': 0.0,\n",
       "  'abs': 0,\n",
       "  'integrated': 0.0}}"
      ]
     },
     "execution_count": 23,
     "metadata": {},
     "output_type": "execute_result"
    }
   ],
   "source": [
    "# Many other statistics of the data are readily available. A quick summary for each channel of data is available in a dictionary\n",
    "myobj_from_df.summary_stats()"
   ]
  },
  {
   "cell_type": "code",
   "execution_count": 24,
   "metadata": {},
   "outputs": [
    {
     "data": {
      "text/plain": [
       "7.5"
      ]
     },
     "execution_count": 24,
     "metadata": {},
     "output_type": "execute_result"
    }
   ],
   "source": [
    "myobj_from_df.summary_stats()['WindVxi']['mean']"
   ]
  },
  {
   "cell_type": "code",
   "execution_count": 25,
   "metadata": {},
   "outputs": [
    {
     "data": {
      "text/plain": [
       "{'Time': {'Time': 10, 'WindVxi': 8, 'WindVyi': 0, 'WindVzi': 0},\n",
       " 'WindVxi': {'Time': 6, 'WindVxi': 8, 'WindVyi': 0, 'WindVzi': 0},\n",
       " 'WindVyi': {'Time': 1, 'WindVxi': 7, 'WindVyi': 0, 'WindVzi': 0},\n",
       " 'WindVzi': {'Time': 1, 'WindVxi': 7, 'WindVyi': 0, 'WindVzi': 0}}"
      ]
     },
     "execution_count": 25,
     "metadata": {},
     "output_type": "execute_result"
    }
   ],
   "source": [
    "# It is helpful to know the value of other channels when one of interest is at its extreme value\n",
    "myobj_from_df.extremes()"
   ]
  },
  {
   "cell_type": "code",
   "execution_count": 26,
   "metadata": {},
   "outputs": [
    {
     "data": {
      "text/plain": [
       "{'RotTorq': {'Time': 54.45, 'RotTorq': 2650.0, 'TwrBsFyt': -22.0},\n",
       " 'TwrBsFyt': {'Time': 70.85, 'RotTorq': -212.0, 'TwrBsFyt': 53.6}}"
      ]
     },
     "execution_count": 26,
     "metadata": {},
     "output_type": "execute_result"
    }
   ],
   "source": [
    "# This can be done for the whole dataset (which can be a large NxN output), or specific channels\n",
    "myobj_of_ascii.extremes(['RotTorq','TwrBsFyt'])"
   ]
  },
  {
   "cell_type": "code",
   "execution_count": 27,
   "metadata": {},
   "outputs": [
    {
     "data": {
      "text/plain": [
       "{'Time': {'Time': 1, 'WindVxi': 7, 'WindVyi': 0, 'WindVzi': 0},\n",
       " 'WindVxi': {'Time': 1, 'WindVxi': 7, 'WindVyi': 0, 'WindVzi': 0},\n",
       " 'WindVyi': {'Time': 1, 'WindVxi': 7, 'WindVyi': 0, 'WindVzi': 0},\n",
       " 'WindVzi': {'Time': 1, 'WindVxi': 7, 'WindVyi': 0, 'WindVzi': 0}}"
      ]
     },
     "execution_count": 27,
     "metadata": {},
     "output_type": "execute_result"
    }
   ],
   "source": [
    "# The extremes is done using the maximum value by default, but 'min' and 'absmax' are also available\n",
    "myobj_from_df.extremes(stat='min')"
   ]
  },
  {
   "cell_type": "code",
   "execution_count": 28,
   "metadata": {},
   "outputs": [
    {
     "data": {
      "text/plain": [
       "{'RotTorq': {'Time': 54.45, 'RotTorq': 2650.0, 'TwrBsFyt': -22.0},\n",
       " 'TwrBsFyt': {'Time': 60.25, 'RotTorq': -925.0, 'TwrBsFyt': -137.0}}"
      ]
     },
     "execution_count": 28,
     "metadata": {},
     "output_type": "execute_result"
    }
   ],
   "source": [
    "myobj_of_ascii.extremes(['RotTorq','TwrBsFyt'], stat='absmax')"
   ]
  },
  {
   "cell_type": "markdown",
   "metadata": {},
   "source": [
    "A larger laundry list of statistics are available as data properties (meaning they don't have to be called as a function):"
   ]
  },
  {
   "cell_type": "code",
   "execution_count": 29,
   "metadata": {},
   "outputs": [
    {
     "data": {
      "text/plain": [
       "array([0, 0, 0, 0])"
      ]
     },
     "execution_count": 29,
     "metadata": {},
     "output_type": "execute_result"
    }
   ],
   "source": [
    "# Indices to the minimum value for each channel\n",
    "myobj_from_df.idxmins"
   ]
  },
  {
   "cell_type": "code",
   "execution_count": 30,
   "metadata": {},
   "outputs": [
    {
     "data": {
      "text/plain": [
       "array([9, 5, 0, 0])"
      ]
     },
     "execution_count": 30,
     "metadata": {},
     "output_type": "execute_result"
    }
   ],
   "source": [
    "# Indices to the maximum value for each channel\n",
    "myobj_from_df.idxmaxs"
   ]
  },
  {
   "cell_type": "code",
   "execution_count": 31,
   "metadata": {},
   "outputs": [
    {
     "data": {
      "text/plain": [
       "array([1, 7, 0, 0])"
      ]
     },
     "execution_count": 31,
     "metadata": {},
     "output_type": "execute_result"
    }
   ],
   "source": [
    "# Minimum value of each channel\n",
    "myobj_from_df.minima"
   ]
  },
  {
   "cell_type": "code",
   "execution_count": 32,
   "metadata": {},
   "outputs": [
    {
     "data": {
      "text/plain": [
       "array([10,  8,  0,  0])"
      ]
     },
     "execution_count": 32,
     "metadata": {},
     "output_type": "execute_result"
    }
   ],
   "source": [
    "# Maximum value of each channel\n",
    "myobj_from_df.maxima"
   ]
  },
  {
   "cell_type": "code",
   "execution_count": 33,
   "metadata": {},
   "outputs": [
    {
     "data": {
      "text/plain": [
       "array([10,  8,  0,  0])"
      ]
     },
     "execution_count": 33,
     "metadata": {},
     "output_type": "execute_result"
    }
   ],
   "source": [
    "# Maximum value of absolute values of each channel\n",
    "myobj_from_df.absmaxima"
   ]
  },
  {
   "cell_type": "code",
   "execution_count": 34,
   "metadata": {},
   "outputs": [
    {
     "data": {
      "text/plain": [
       "array([9, 1, 0, 0])"
      ]
     },
     "execution_count": 34,
     "metadata": {},
     "output_type": "execute_result"
    }
   ],
   "source": [
    "# The range of data values (max - min)\n",
    "myobj_from_df.ranges"
   ]
  },
  {
   "cell_type": "code",
   "execution_count": 35,
   "metadata": {},
   "outputs": [
    {
     "data": {
      "text/plain": [
       "array([0, 1])"
      ]
     },
     "execution_count": 35,
     "metadata": {},
     "output_type": "execute_result"
    }
   ],
   "source": [
    "# Channel indices which vary in time\n",
    "myobj_from_df.variable"
   ]
  },
  {
   "cell_type": "code",
   "execution_count": 36,
   "metadata": {},
   "outputs": [
    {
     "data": {
      "text/plain": [
       "array([2, 3])"
      ]
     },
     "execution_count": 36,
     "metadata": {},
     "output_type": "execute_result"
    }
   ],
   "source": [
    "# Channel indices which are constant in time\n",
    "myobj_from_df.constant"
   ]
  },
  {
   "cell_type": "code",
   "execution_count": 37,
   "metadata": {},
   "outputs": [
    {
     "data": {
      "text/plain": [
       "array([55, 75,  0,  0])"
      ]
     },
     "execution_count": 37,
     "metadata": {},
     "output_type": "execute_result"
    }
   ],
   "source": [
    "# Sum of channel values over time\n",
    "myobj_from_df.sums"
   ]
  },
  {
   "cell_type": "code",
   "execution_count": 38,
   "metadata": {},
   "outputs": [
    {
     "data": {
      "text/plain": [
       "array([385, 565,   0,   0])"
      ]
     },
     "execution_count": 38,
     "metadata": {},
     "output_type": "execute_result"
    }
   ],
   "source": [
    "# Sum of channel values over time to the second power\n",
    "myobj_from_df.sums_squared"
   ]
  },
  {
   "cell_type": "code",
   "execution_count": 39,
   "metadata": {},
   "outputs": [
    {
     "data": {
      "text/plain": [
       "array([3025, 4275,    0,    0])"
      ]
     },
     "execution_count": 39,
     "metadata": {},
     "output_type": "execute_result"
    }
   ],
   "source": [
    "# Sum of channel values over time to the third power\n",
    "myobj_from_df.sums_cubed"
   ]
  },
  {
   "cell_type": "code",
   "execution_count": 40,
   "metadata": {},
   "outputs": [
    {
     "data": {
      "text/plain": [
       "array([25333, 32485,     0,     0])"
      ]
     },
     "execution_count": 40,
     "metadata": {},
     "output_type": "execute_result"
    }
   ],
   "source": [
    "# Sum of channel values over time to the fourth power\n",
    "myobj_from_df.sums_fourth"
   ]
  },
  {
   "cell_type": "code",
   "execution_count": 41,
   "metadata": {},
   "outputs": [
    {
     "data": {
      "text/plain": [
       "array([8.25, 0.25, 0.  , 0.  ])"
      ]
     },
     "execution_count": 41,
     "metadata": {},
     "output_type": "execute_result"
    }
   ],
   "source": [
    "# Second moment of the timeseries for each channel\n",
    "myobj_from_df.second_moments"
   ]
  },
  {
   "cell_type": "code",
   "execution_count": 42,
   "metadata": {},
   "outputs": [
    {
     "data": {
      "text/plain": [
       "array([0., 0., 0., 0.])"
      ]
     },
     "execution_count": 42,
     "metadata": {},
     "output_type": "execute_result"
    }
   ],
   "source": [
    "# Third moment of the timeseries for each channel\n",
    "myobj_from_df.third_moments"
   ]
  },
  {
   "cell_type": "code",
   "execution_count": 43,
   "metadata": {},
   "outputs": [
    {
     "data": {
      "text/plain": [
       "array([1.208625e+02, 6.250000e-02, 0.000000e+00, 0.000000e+00])"
      ]
     },
     "execution_count": 43,
     "metadata": {},
     "output_type": "execute_result"
    }
   ],
   "source": [
    "# Fourth moment of the timeseries for each channel\n",
    "myobj_from_df.fourth_moments"
   ]
  },
  {
   "cell_type": "code",
   "execution_count": 44,
   "metadata": {},
   "outputs": [
    {
     "data": {
      "text/plain": [
       "array([5.5, 7.5, 0. , 0. ])"
      ]
     },
     "execution_count": 44,
     "metadata": {},
     "output_type": "execute_result"
    }
   ],
   "source": [
    "# Mean of channel values over time\n",
    "myobj_from_df.means"
   ]
  },
  {
   "cell_type": "code",
   "execution_count": 45,
   "metadata": {},
   "outputs": [
    {
     "data": {
      "text/plain": [
       "array([5.5, 7.5, 0. , 0. ])"
      ]
     },
     "execution_count": 45,
     "metadata": {},
     "output_type": "execute_result"
    }
   ],
   "source": [
    "# Median of channel values over time\n",
    "myobj_from_df.medians"
   ]
  },
  {
   "cell_type": "code",
   "execution_count": 46,
   "metadata": {},
   "outputs": [
    {
     "data": {
      "text/plain": [
       "array([2.87228132, 0.5       , 0.        , 0.        ])"
      ]
     },
     "execution_count": 46,
     "metadata": {},
     "output_type": "execute_result"
    }
   ],
   "source": [
    "# Standard deviation of channel values over time\n",
    "myobj_from_df.stddevs"
   ]
  },
  {
   "cell_type": "code",
   "execution_count": 47,
   "metadata": {},
   "outputs": [
    {
     "name": "stderr",
     "output_type": "stream",
     "text": [
      "/Users/gbarter/devel/pCrunch/pCrunch/aeroelastic_output.py:441: RuntimeWarning: invalid value encountered in divide\n",
      "  return self.third_moments / np.sqrt(self.second_moments) ** 3\n"
     ]
    },
    {
     "data": {
      "text/plain": [
       "array([ 0.,  0., nan, nan])"
      ]
     },
     "execution_count": 47,
     "metadata": {},
     "output_type": "execute_result"
    }
   ],
   "source": [
    "# Skew of channel values over time\n",
    "myobj_from_df.skews"
   ]
  },
  {
   "cell_type": "code",
   "execution_count": 48,
   "metadata": {},
   "outputs": [
    {
     "name": "stderr",
     "output_type": "stream",
     "text": [
      "/Users/gbarter/devel/pCrunch/pCrunch/aeroelastic_output.py:445: RuntimeWarning: invalid value encountered in divide\n",
      "  return self.fourth_moments / self.second_moments ** 2\n"
     ]
    },
    {
     "data": {
      "text/plain": [
       "array([1.77575758, 1.        ,        nan,        nan])"
      ]
     },
     "execution_count": 48,
     "metadata": {},
     "output_type": "execute_result"
    }
   ],
   "source": [
    "# Kurtosis of channel values over time\n",
    "myobj_from_df.kurtosis"
   ]
  },
  {
   "cell_type": "code",
   "execution_count": 49,
   "metadata": {},
   "outputs": [
    {
     "data": {
      "text/plain": [
       "array([49.5, 67.5,  0. ,  0. ])"
      ]
     },
     "execution_count": 49,
     "metadata": {},
     "output_type": "execute_result"
    }
   ],
   "source": [
    "# Integration of channel values over time\n",
    "myobj_from_df.integrated"
   ]
  },
  {
   "cell_type": "code",
   "execution_count": 50,
   "metadata": {},
   "outputs": [
    {
     "data": {
      "text/plain": [
       "72637.25"
      ]
     },
     "execution_count": 50,
     "metadata": {},
     "output_type": "execute_result"
    }
   ],
   "source": [
    "# Special instance of the integration that specifically uses\n",
    "# the Power channel string to integrate over time and calculate energy\n",
    "myobj_of_ascii.compute_energy('GenPwr') "
   ]
  },
  {
   "cell_type": "code",
   "execution_count": 51,
   "metadata": {},
   "outputs": [
    {
     "data": {
      "text/plain": [
       "89.99999999999991"
      ]
     },
     "execution_count": 51,
     "metadata": {},
     "output_type": "execute_result"
    }
   ],
   "source": [
    "# Total \"travel\" during a simulation, which is helpful for pitch and yaw systems\n",
    "myobj_of_ascii.total_travel('BldPitch1') "
   ]
  },
  {
   "cell_type": "markdown",
   "metadata": {},
   "source": [
    "## Calculating fatigue\n",
    "\n",
    "pCrunch can compute damage equivalent loads and, optionally, traditional Palmgren-Miner damage.  Computing these quantities requires additional inputs for material properties, S-N curve parameters, and some algorithm choices (although most of the work is handed off to the `fatpack` module.  These additional parameters would most likely vary from one channel to the next.  For instance, blade composites will use different inputs that the structural steel in the tower or the fancy steel in the low-speed shaft.  To facilitate these additional inputs, pCrunch provides a `FatigueParams` class that both contains the necessary parameters and interfaces with `fatpack`.  Association between a load channel and a FatigueParams instance is done with a dictionary, similar to the magnitude channels.\n",
    "\n",
    "Instead of using the same examples as above, here we'll build a couple of sinusoids to understand the numerics a bit better.  One sinusoid is centered at y=0 and the other at y=80kN."
   ]
  },
  {
   "cell_type": "markdown",
   "metadata": {},
   "source": [
    "### The `FatigueParams` class\n",
    "\n",
    "There are three ways to initialize a FatigueParams instance with an associated S-N curve in the `fatpack` library:\n",
    "        \n",
    "1. Specify a curve from DNV-RP-C203, Fatigue in Offshore Steel Structures.\n",
    "   Input keywords are `dnv_type` = (one of) ['air', 'seawater', 'cathodic'] and\n",
    "   `dnv_name` = (one of) [B1, B2, C, C1, C2, D, E, G F1, F3, G, W1, W2, W3]\n",
    "\n",
    "2. Specify the slope of the S-N curve and a point on the curve.\n",
    "   Required keywords are `slope`, `Nc` and `Sc`.  Assumes a linear S-N curve.\n",
    "\n",
    "3. Specify the slope and the S-intercept point assuming a perflectly linear S-N curve\n",
    "   (which might not be the actual ultimate failure stress of the material.\n",
    "   Required keywords are `slope` and `S_intercept`.\n"
   ]
  },
  {
   "cell_type": "code",
   "execution_count": 52,
   "metadata": {},
   "outputs": [],
   "source": [
    "# Setting with curves found in Tables 2-1, 2-2, 2-4 from DNV-RP-C203 - Edition October 2024\n",
    "myparam1 = FatigueParams(dnv_type='Air', dnv_name='D')\n",
    "myparam2 = FatigueParams(load2stress=25.0, dnv_type='sea', dnv_name='c1')\n",
    "\n",
    "# Also showing the other available keywords\n",
    "myparam3 = FatigueParams(bins=256, goodman=True, ultimate_stress=1e6, dnv_type='cathodic', dnv_name='B2')\n",
    "\n",
    "# Setting with slope and a known point, (Nc, Sc)\n",
    "myparam4 = FatigueParams(Sc=2e7, Nc=2e6, slope=3)\n",
    "\n",
    "# Setting with slope and the S-axis intercept\n",
    "myparam5 = FatigueParams(ultimate_stress=1e6, slope=4) # Will use ultimate_stress as S_intercept\n",
    "myparam6 = FatigueParams(ultimate_stress=1e6, slope=4, S_intercept=1e6)"
   ]
  },
  {
   "cell_type": "markdown",
   "metadata": {},
   "source": [
    "### Plotting the S-N surve\n",
    "\n",
    "Once initialized, it can be helpful to plot the S-N curve to verify expected behavior.  This can be done by passing in a vector of values for N and plotting the resulting values of S."
   ]
  },
  {
   "cell_type": "code",
   "execution_count": 53,
   "metadata": {},
   "outputs": [
    {
     "data": {
      "image/png": "[encoded data removed]",
      "text/plain": [
       "<Figure size 640x480 with 1 Axes>"
      ]
     },
     "metadata": {},
     "output_type": "display_data"
    }
   ],
   "source": [
    "NN = np.logspace(3,9,100)\n",
    "plt.loglog(NN, myparam1.get_stress(NN),\n",
    "          NN, myparam2.get_stress(NN),\n",
    "          NN, myparam3.get_stress(NN),\n",
    "          NN, myparam4.get_stress(NN),\n",
    "          NN, myparam5.get_stress(NN),\n",
    "          NN, myparam6.get_stress(NN))\n",
    "plt.xlabel('Endurance')\n",
    "plt.ylabel('Stress')\n",
    "plt.legend([str(m+1) for m in range(6)])\n",
    "plt.grid()"
   ]
  },
  {
   "cell_type": "markdown",
   "metadata": {},
   "source": [
    "### Fatigue examples\n",
    "\n",
    "Time-series channel history can be passed directly to the FatigueParams instances to compute damage equivalent loads (DELs) and Palmgren-Miner damage."
   ]
  },
  {
   "cell_type": "code",
   "execution_count": 54,
   "metadata": {},
   "outputs": [
    {
     "name": "stdout",
     "output_type": "stream",
     "text": [
      "64.02231704524944 64.74710395194157 8.777556991117969e-35 2.684628307059191e-34\n"
     ]
    }
   ],
   "source": [
    "# Compute DELs\n",
    "dels = myparam1.compute_del(myobj_of_ascii['TwrBsFyt'], myobj_of_ascii.elapsed_time)\n",
    "\n",
    "# Compute Damage\n",
    "dams = myparam1.compute_damage(myobj_of_ascii['TwrBsFyt'])\n",
    "\n",
    "# Can also override the algorithmic options, such as number of bins and the Goodman correction\n",
    "dels2 = myparam1.compute_del(myobj_of_ascii['TwrBsFyt'], myobj_of_ascii.elapsed_time, bins=50, goodman=True)\n",
    "dams2 = myparam1.compute_damage(myobj_of_ascii['TwrBsFyt'], bins=200, goodman=True)\n",
    "print(dels, dels2, dams, dams2)"
   ]
  },
  {
   "cell_type": "markdown",
   "metadata": {},
   "source": [
    "A more helpful approach is usually to drive the fatigue calculations from the AeroelasticOutput object directly.  This next example does just that and also demonstrates some of the trends involved as the number of cycles and the amplitude of cycles changes."
   ]
  },
  {
   "cell_type": "code",
   "execution_count": 55,
   "metadata": {},
   "outputs": [
    {
     "name": "stdout",
     "output_type": "stream",
     "text": [
      "Unknown keyword argument, return_damage\n"
     ]
    },
    {
     "data": {
      "text/html": [
       "<div>\n",
       "<style scoped>\n",
       "    .dataframe tbody tr th:only-of-type {\n",
       "        vertical-align: middle;\n",
       "    }\n",
       "\n",
       "    .dataframe tbody tr th {\n",
       "        vertical-align: top;\n",
       "    }\n",
       "\n",
       "    .dataframe thead th {\n",
       "        text-align: right;\n",
       "    }\n",
       "</style>\n",
       "<table border=\"1\" class=\"dataframe\">\n",
       "  <thead>\n",
       "    <tr style=\"text-align: right;\">\n",
       "      <th></th>\n",
       "      <th>Signal0</th>\n",
       "      <th>Signal80</th>\n",
       "      <th>Mag0</th>\n",
       "      <th>Mag80</th>\n",
       "    </tr>\n",
       "  </thead>\n",
       "  <tbody>\n",
       "    <tr>\n",
       "      <th>DELs</th>\n",
       "      <td>4.086984e+04</td>\n",
       "      <td>4.086984e+04</td>\n",
       "      <td>2.574638e+04</td>\n",
       "      <td>4.086984e+04</td>\n",
       "    </tr>\n",
       "    <tr>\n",
       "      <th>Damage</th>\n",
       "      <td>5.120000e-09</td>\n",
       "      <td>5.120000e-09</td>\n",
       "      <td>1.280000e-09</td>\n",
       "      <td>5.120000e-09</td>\n",
       "    </tr>\n",
       "  </tbody>\n",
       "</table>\n",
       "</div>"
      ],
      "text/plain": [
       "             Signal0      Signal80          Mag0         Mag80\n",
       "DELs    4.086984e+04  4.086984e+04  2.574638e+04  4.086984e+04\n",
       "Damage  5.120000e-09  5.120000e-09  1.280000e-09  5.120000e-09"
      ]
     },
     "execution_count": 55,
     "metadata": {},
     "output_type": "execute_result"
    }
   ],
   "source": [
    "# Build a FatigueParams instance that we'll use for all channels\n",
    "myparam = FatigueParams(load2stress = 25.0,          # Factor based on cross-section to convert channel force/moment to stress\n",
    "                        slope = 3.0,                 # Slope of S-N curve\n",
    "                        ultimate_stress = 6e8,       # Yield stress of the material\n",
    "                        S_intercept = 5e9,           # S-intercept on S-N curve (catastrophic load amplitude for 1 cycle)\n",
    "                        goodman_correction = False,  # Apply Goodman correction for mean load value?\n",
    "                        )\n",
    "\n",
    "# Our time series\n",
    "t   = np.linspace(0, 600, 10000)\n",
    "\n",
    "# Sinusoids centered at 0 and 40kN, with amplitude of 40kN\n",
    "y0  = 80e3 * np.sin(2*np.pi*t/60.0) # Will have +/- values\n",
    "y80 = y0 + 80e3                     # All + values\n",
    "zeros = np.zeros(y0.shape)\n",
    "\n",
    "# Simple dictionary for AeroelasticOutput instance\n",
    "mydata = {\"Time\":t,\n",
    "          \"Signal0\":y0,\n",
    "          \"Signal80\":y80,\n",
    "          \"Zeros\":zeros}\n",
    "\n",
    "# Magnitude channels (in this case, just an absolute value operation on the sinusoids)\n",
    "mymagnitudes = {\"Mag0\":[\"Signal0\", \"Zeros\"],\n",
    "                \"Mag80\":[\"Signal80\", \"Zeros\"]}\n",
    "\n",
    "# The channels we will be computing fatigue on\n",
    "myfatigues = {\"Signal0\":myparam,\n",
    "              \"Signal80\":myparam,\n",
    "              \"Mag0\":myparam,\n",
    "              \"Mag80\":myparam}\n",
    "\n",
    "# Create the instance\n",
    "myobj = AeroelasticOutput(mydata, magnitude_channels=mymagnitudes, fatigue_channels=myfatigues)\n",
    "\n",
    "# Loop over channels and pass in channel-specific fatigue parameters\n",
    "dels, dams = myobj.get_DELs(return_damage = True)\n",
    "\n",
    "# Organize the output into a table\n",
    "pd.concat((pd.DataFrame(dels, index=['DELs']), pd.DataFrame(dams, index=['Damage'])))"
   ]
  },
  {
   "cell_type": "markdown",
   "metadata": {},
   "source": [
    "A couple of points to highlight in the results:\n",
    "\n",
    "- The Signal0 and Signal80 have the same DEL and Damage values because the amplitude of the variations are equivalent\n",
    "- The Mag80 signal is also equivalent because the signal is unchanged by the magnitude operation\n",
    "- The Mag0 signal has noticeably less fatigue accumulation.  This is because by taking the absolute value of the signal centered at zero, we have doubled the frequency but halved the amplitude.  These effects combine in nonlinear ways, but the net result is a drop in fatigue accumulation.\n",
    "  \n",
    "Now let's add the Goodman Correction, which should calculate additional fatigue impacts based on the mean value of the signals, not just the amplitude of variation.  We can do this by either regenerating a new FatigueParams instance with the Goodman flag set to True, or pass in a keyword to the `compute_del` function that overrides the inputs."
   ]
  },
  {
   "cell_type": "code",
   "execution_count": 56,
   "metadata": {},
   "outputs": [
    {
     "data": {
      "text/html": [
       "<div>\n",
       "<style scoped>\n",
       "    .dataframe tbody tr th:only-of-type {\n",
       "        vertical-align: middle;\n",
       "    }\n",
       "\n",
       "    .dataframe tbody tr th {\n",
       "        vertical-align: top;\n",
       "    }\n",
       "\n",
       "    .dataframe thead th {\n",
       "        text-align: right;\n",
       "    }\n",
       "</style>\n",
       "<table border=\"1\" class=\"dataframe\">\n",
       "  <thead>\n",
       "    <tr style=\"text-align: right;\">\n",
       "      <th></th>\n",
       "      <th>Signal0</th>\n",
       "      <th>Signal80</th>\n",
       "      <th>Mag0</th>\n",
       "      <th>Mag80</th>\n",
       "    </tr>\n",
       "  </thead>\n",
       "  <tbody>\n",
       "    <tr>\n",
       "      <th>DELs</th>\n",
       "      <td>4.086984e+04</td>\n",
       "      <td>4.086984e+04</td>\n",
       "      <td>2.574638e+04</td>\n",
       "      <td>4.086984e+04</td>\n",
       "    </tr>\n",
       "    <tr>\n",
       "      <th>DELs-Goodman</th>\n",
       "      <td>4.086984e+04</td>\n",
       "      <td>4.100653e+04</td>\n",
       "      <td>2.578937e+04</td>\n",
       "      <td>4.100653e+04</td>\n",
       "    </tr>\n",
       "    <tr>\n",
       "      <th>Damage</th>\n",
       "      <td>5.120000e-09</td>\n",
       "      <td>5.120000e-09</td>\n",
       "      <td>1.280000e-09</td>\n",
       "      <td>5.120000e-09</td>\n",
       "    </tr>\n",
       "    <tr>\n",
       "      <th>Damage-Goodman</th>\n",
       "      <td>5.120000e-09</td>\n",
       "      <td>5.171543e-09</td>\n",
       "      <td>1.286421e-09</td>\n",
       "      <td>5.171543e-09</td>\n",
       "    </tr>\n",
       "  </tbody>\n",
       "</table>\n",
       "</div>"
      ],
      "text/plain": [
       "                     Signal0      Signal80          Mag0         Mag80\n",
       "DELs            4.086984e+04  4.086984e+04  2.574638e+04  4.086984e+04\n",
       "DELs-Goodman    4.086984e+04  4.100653e+04  2.578937e+04  4.100653e+04\n",
       "Damage          5.120000e-09  5.120000e-09  1.280000e-09  5.120000e-09\n",
       "Damage-Goodman  5.120000e-09  5.171543e-09  1.286421e-09  5.171543e-09"
      ]
     },
     "execution_count": 56,
     "metadata": {},
     "output_type": "execute_result"
    }
   ],
   "source": [
    "dels2, dams2 = myobj.get_DELs(goodman=True)\n",
    "\n",
    "pd.concat((pd.DataFrame(dels, index=['DELs']), pd.DataFrame(dels2, index=['DELs-Goodman']), pd.DataFrame(dams, index=['Damage']), pd.DataFrame(dams2, index=['Damage-Goodman'])))    "
   ]
  },
  {
   "cell_type": "markdown",
   "metadata": {},
   "source": [
    "As expected, there is now a difference between Signal0 and Signal80 in the Goodman columns because of the higher mean loads in the Signal80 case."
   ]
  },
  {
   "cell_type": "markdown",
   "metadata": {},
   "source": [
    "### Plotting the rainflow results\n",
    "\n",
    "For debugging purposes, the rainflow bin counts and values can also be obtained directly and plotted."
   ]
  },
  {
   "cell_type": "code",
   "execution_count": 57,
   "metadata": {},
   "outputs": [
    {
     "data": {
      "text/plain": [
       "Text(0, 0.5, 'Rainflow count')"
      ]
     },
     "execution_count": 57,
     "metadata": {},
     "output_type": "execute_result"
    },
    {
     "data": {
      "image/png": "[encoded data removed]",
      "text/plain": [
       "<Figure size 640x480 with 1 Axes>"
      ]
     },
     "metadata": {},
     "output_type": "display_data"
    }
   ],
   "source": [
    "# Actual timeseries examples\n",
    "Nf, Sf = myparam1.get_rainflow_counts(myobj_of_ascii['TwrBsFyt'], 100)\n",
    "plt.bar(Sf, Nf)\n",
    "plt.xlabel('Stress cycle amplitude bin [kN]')\n",
    "plt.ylabel('Rainflow count')"
   ]
  },
  {
   "cell_type": "code",
   "execution_count": 58,
   "metadata": {},
   "outputs": [
    {
     "data": {
      "text/plain": [
       "Text(0, 0.5, 'Rainflow count')"
      ]
     },
     "execution_count": 58,
     "metadata": {},
     "output_type": "execute_result"
    },
    {
     "data": {
      "image/png": "[encoded data removed]",
      "text/plain": [
       "<Figure size 640x480 with 1 Axes>"
      ]
     },
     "metadata": {},
     "output_type": "display_data"
    }
   ],
   "source": [
    "# From toy problem with single sinusoid, there are 10 cycles in the time period at a single amplitude\n",
    "Nf, Sf = myparam.get_rainflow_counts(myobj['Signal80'], 100)\n",
    "plt.bar(Sf*1e-3, Nf)\n",
    "plt.xlabel('Stress cycle amplitude bin [kN]')\n",
    "plt.ylabel('Rainflow count')"
   ]
  },
  {
   "cell_type": "markdown",
   "metadata": {},
   "source": [
    "The Rainflow Matrix, also known as the Markov Matrix, which is a heatmap of the rainflow counting of means and amplitude ranges can be obtained and easily plotted."
   ]
  },
  {
   "cell_type": "code",
   "execution_count": 64,
   "metadata": {},
   "outputs": [
    {
     "data": {
      "text/plain": [
       "Text(0.5, 0, 'Amplitude Range')"
      ]
     },
     "execution_count": 64,
     "metadata": {},
     "output_type": "execute_result"
    },
    {
     "data": {
      "image/png": "[encoded data removed]",
      "text/plain": [
       "<Figure size 640x480 with 2 Axes>"
      ]
     },
     "metadata": {},
     "output_type": "display_data"
    }
   ],
   "source": [
    "# Use an timeseries examples, with a smaller number of bins for plotting\n",
    "Z, X, Y = myparam1.get_rainflow_matrix(myobj_of_ascii['TwrBsFyt'], 10)\n",
    "C = plt.pcolormesh(X, Y, Z, cmap='jet')\n",
    "plt.colorbar(C)\n",
    "plt.title(\"Rainflow matrix counts\")\n",
    "plt.ylabel(\"Mean Value\")\n",
    "plt.xlabel(\"Amplitude Range\")"
   ]
  },
  {
   "cell_type": "markdown",
   "metadata": {},
   "source": [
    "## Saving and Loading Data\n",
    "\n",
    "The timeseries and channel data can be saved and loaded from a file.  The supporting data structures, such as `magnitude_channels` or `fatigue_channels` are not saved or loaded (yet)."
   ]
  },
  {
   "cell_type": "code",
   "execution_count": 60,
   "metadata": {},
   "outputs": [
    {
     "data": {
      "text/html": [
       "<div>\n",
       "<style scoped>\n",
       "    .dataframe tbody tr th:only-of-type {\n",
       "        vertical-align: middle;\n",
       "    }\n",
       "\n",
       "    .dataframe tbody tr th {\n",
       "        vertical-align: top;\n",
       "    }\n",
       "\n",
       "    .dataframe thead th {\n",
       "        text-align: right;\n",
       "    }\n",
       "</style>\n",
       "<table border=\"1\" class=\"dataframe\">\n",
       "  <thead>\n",
       "    <tr style=\"text-align: right;\">\n",
       "      <th></th>\n",
       "      <th>Time</th>\n",
       "      <th>WindVxi</th>\n",
       "      <th>WindVyi</th>\n",
       "      <th>WindVzi</th>\n",
       "      <th>du_dt</th>\n",
       "    </tr>\n",
       "  </thead>\n",
       "  <tbody>\n",
       "    <tr>\n",
       "      <th>0</th>\n",
       "      <td>1.0</td>\n",
       "      <td>7.0</td>\n",
       "      <td>0.0</td>\n",
       "      <td>0.0</td>\n",
       "      <td>0.0</td>\n",
       "    </tr>\n",
       "    <tr>\n",
       "      <th>1</th>\n",
       "      <td>2.0</td>\n",
       "      <td>7.0</td>\n",
       "      <td>0.0</td>\n",
       "      <td>0.0</td>\n",
       "      <td>0.0</td>\n",
       "    </tr>\n",
       "    <tr>\n",
       "      <th>2</th>\n",
       "      <td>3.0</td>\n",
       "      <td>7.0</td>\n",
       "      <td>0.0</td>\n",
       "      <td>0.0</td>\n",
       "      <td>0.0</td>\n",
       "    </tr>\n",
       "    <tr>\n",
       "      <th>3</th>\n",
       "      <td>4.0</td>\n",
       "      <td>7.0</td>\n",
       "      <td>0.0</td>\n",
       "      <td>0.0</td>\n",
       "      <td>0.0</td>\n",
       "    </tr>\n",
       "    <tr>\n",
       "      <th>4</th>\n",
       "      <td>5.0</td>\n",
       "      <td>7.0</td>\n",
       "      <td>0.0</td>\n",
       "      <td>0.0</td>\n",
       "      <td>0.5</td>\n",
       "    </tr>\n",
       "    <tr>\n",
       "      <th>5</th>\n",
       "      <td>6.0</td>\n",
       "      <td>8.0</td>\n",
       "      <td>0.0</td>\n",
       "      <td>0.0</td>\n",
       "      <td>0.5</td>\n",
       "    </tr>\n",
       "    <tr>\n",
       "      <th>6</th>\n",
       "      <td>7.0</td>\n",
       "      <td>8.0</td>\n",
       "      <td>0.0</td>\n",
       "      <td>0.0</td>\n",
       "      <td>0.0</td>\n",
       "    </tr>\n",
       "    <tr>\n",
       "      <th>7</th>\n",
       "      <td>8.0</td>\n",
       "      <td>8.0</td>\n",
       "      <td>0.0</td>\n",
       "      <td>0.0</td>\n",
       "      <td>0.0</td>\n",
       "    </tr>\n",
       "    <tr>\n",
       "      <th>8</th>\n",
       "      <td>9.0</td>\n",
       "      <td>8.0</td>\n",
       "      <td>0.0</td>\n",
       "      <td>0.0</td>\n",
       "      <td>0.0</td>\n",
       "    </tr>\n",
       "    <tr>\n",
       "      <th>9</th>\n",
       "      <td>10.0</td>\n",
       "      <td>8.0</td>\n",
       "      <td>0.0</td>\n",
       "      <td>0.0</td>\n",
       "      <td>0.0</td>\n",
       "    </tr>\n",
       "  </tbody>\n",
       "</table>\n",
       "</div>"
      ],
      "text/plain": [
       "   Time  WindVxi  WindVyi  WindVzi  du_dt\n",
       "0   1.0      7.0      0.0      0.0    0.0\n",
       "1   2.0      7.0      0.0      0.0    0.0\n",
       "2   3.0      7.0      0.0      0.0    0.0\n",
       "3   4.0      7.0      0.0      0.0    0.0\n",
       "4   5.0      7.0      0.0      0.0    0.5\n",
       "5   6.0      8.0      0.0      0.0    0.5\n",
       "6   7.0      8.0      0.0      0.0    0.0\n",
       "7   8.0      8.0      0.0      0.0    0.0\n",
       "8   9.0      8.0      0.0      0.0    0.0\n",
       "9  10.0      8.0      0.0      0.0    0.0"
      ]
     },
     "execution_count": 60,
     "metadata": {},
     "output_type": "execute_result"
    }
   ],
   "source": [
    "myobj_from_dict.save('myfile.p')\n",
    "myobj_copy = AeroelasticOutput()\n",
    "myobj_copy.load('myfile.p')\n",
    "myobj_copy.to_df()"
   ]
  }
 ],
 "metadata": {
  "kernelspec": {
   "display_name": "Python 3 (ipykernel)",
   "language": "python",
   "name": "python3"
  },
  "language_info": {
   "codemirror_mode": {
    "name": "ipython",
    "version": 3
   },
   "file_extension": ".py",
   "mimetype": "text/x-python",
   "name": "python",
   "nbconvert_exporter": "python",
   "pygments_lexer": "ipython3",
   "version": "3.12.9"
  }
 },
 "nbformat": 4,
 "nbformat_minor": 4
}
